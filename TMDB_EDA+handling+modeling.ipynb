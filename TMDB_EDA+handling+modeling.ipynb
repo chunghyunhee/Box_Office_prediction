{
  "nbformat": 4,
  "nbformat_minor": 0,
  "metadata": {
    "kernelspec": {
      "display_name": "Python 3",
      "language": "python",
      "name": "python3"
    },
    "language_info": {
      "codemirror_mode": {
        "name": "ipython",
        "version": 3
      },
      "file_extension": ".py",
      "mimetype": "text/x-python",
      "name": "python",
      "nbconvert_exporter": "python",
      "pygments_lexer": "ipython3",
      "version": "3.7.4"
    },
    "colab": {
      "name": "TMDB_20200425.ipynb",
      "provenance": [],
      "collapsed_sections": []
    }
  },
  "cells": [
    {
      "cell_type": "markdown",
      "metadata": {
        "id": "hVazdX9pz2sL",
        "colab_type": "text"
      },
      "source": [
        "# 1. train, test data load"
      ]
    },
    {
      "cell_type": "code",
      "metadata": {
        "id": "FCdU8rEowPZm",
        "colab_type": "code",
        "colab": {}
      },
      "source": [
        "import pandas as pd\n",
        "import numpy as np\n",
        "pd.set_option('display.max_rows', 200)\n",
        "pd.set_option('display.max_columns', 100)"
      ],
      "execution_count": 0,
      "outputs": []
    },
    {
      "cell_type": "code",
      "metadata": {
        "id": "SDUEkPX8wPZx",
        "colab_type": "code",
        "colab": {}
      },
      "source": [
        "df_train = pd.read_csv(\"TMDB_train_col_remove.csv\", engine='python', header=None)\n",
        "df_test = pd.read_csv(\"TMDB_test_remove_col.csv\", engine='python', header=None)"
      ],
      "execution_count": 0,
      "outputs": []
    },
    {
      "cell_type": "code",
      "metadata": {
        "id": "2UsCcBuW2oSD",
        "colab_type": "code",
        "outputId": "5d49f783-9ff3-42ed-b8ad-90d9230e8813",
        "colab": {
          "base_uri": "https://localhost:8080/",
          "height": 36
        }
      },
      "source": [
        "print(df_train.shape,df_test.shape)"
      ],
      "execution_count": 105,
      "outputs": [
        {
          "output_type": "stream",
          "text": [
            "(3000, 23) (4398, 22)\n"
          ],
          "name": "stdout"
        }
      ]
    },
    {
      "cell_type": "code",
      "metadata": {
        "id": "md_hM_43wPZ7",
        "colab_type": "code",
        "colab": {}
      },
      "source": [
        "# train과 test 간의 데이터프레임 columns 수 맞춰주기 위해 일단 공갈 revenue를 df_test에 넣어줍니다\n",
        "df_test.insert(len(df_test.columns), 'revenue', np.nan)"
      ],
      "execution_count": 0,
      "outputs": []
    },
    {
      "cell_type": "code",
      "metadata": {
        "id": "6VgPuwuFwPaF",
        "colab_type": "code",
        "colab": {}
      },
      "source": [
        "column_list = \"\"\"id,belongs_to_collection,budget,genres,homepage,imdb_id,original_language,original_title,overview,popularity,poster_path,production_companies,production_countries,release_date,runtime,spoken_languages,status,tagline,title,Keywords,cast,crew,revenue\"\"\".split(\",\")"
      ],
      "execution_count": 0,
      "outputs": []
    },
    {
      "cell_type": "code",
      "metadata": {
        "id": "byxRZwb_wPaP",
        "colab_type": "code",
        "colab": {}
      },
      "source": [
        "df_train.columns = column_list\n",
        "df_test.columns = column_list"
      ],
      "execution_count": 0,
      "outputs": []
    },
    {
      "cell_type": "markdown",
      "metadata": {
        "id": "mKTLOjVRwPaX",
        "colab_type": "text"
      },
      "source": [
        "## 2. feature selection & handling"
      ]
    },
    {
      "cell_type": "code",
      "metadata": {
        "id": "XKwgUUbGwPaZ",
        "colab_type": "code",
        "colab": {}
      },
      "source": [
        "df_train = df_train.drop(['id', 'belongs_to_collection', 'homepage', 'imdb_id', 'original_language', 'original_title', 'overview', 'poster_path', 'production_companies', 'release_date', 'runtime', 'status', 'tagline', 'Keywords', 'crew'], axis=1)\n",
        "df_test = df_test.drop(['id', 'belongs_to_collection', 'homepage', 'imdb_id', 'original_language', 'original_title', 'overview', 'poster_path', 'production_companies', 'release_date', 'runtime', 'status', 'tagline', 'Keywords', 'crew'], axis=1)"
      ],
      "execution_count": 0,
      "outputs": []
    },
    {
      "cell_type": "code",
      "metadata": {
        "id": "R_xBB1nGwPar",
        "colab_type": "code",
        "colab": {}
      },
      "source": [
        "# train 데이터 null이 있는 행은 제거\n",
        "df_train = df_train.loc[~df_train['genres'].isna()]\n",
        "df_train = df_train.loc[~df_train['production_countries'].isna()]\n",
        "df_train = df_train.loc[~df_train['spoken_languages'].isna()]\n",
        "df_train = df_train.loc[~df_train['cast'].isna()]"
      ],
      "execution_count": 0,
      "outputs": []
    },
    {
      "cell_type": "code",
      "metadata": {
        "id": "3RQr05wF-E7J",
        "colab_type": "code",
        "colab": {}
      },
      "source": [
        "# Test 데이터 null이 있는 행은 제거\n",
        "df_test = df_test.loc[~df_test['genres'].isna()]\n",
        "df_test = df_test.loc[~df_test['production_countries'].isna()]\n",
        "df_test = df_test.loc[~df_test['spoken_languages'].isna()]\n",
        "df_test = df_test.loc[~df_test['cast'].isna()]"
      ],
      "execution_count": 0,
      "outputs": []
    },
    {
      "cell_type": "code",
      "metadata": {
        "id": "yp48g3_hwPay",
        "colab_type": "code",
        "colab": {}
      },
      "source": [
        "# null 제거 뒤 reindex\n",
        "df_train = df_train.reset_index().drop('index', axis = 1)\n",
        "df_test = df_test.reset_index().drop('index', axis = 1)"
      ],
      "execution_count": 0,
      "outputs": []
    },
    {
      "cell_type": "code",
      "metadata": {
        "id": "SsP41g3xwPbD",
        "colab_type": "code",
        "colab": {}
      },
      "source": [
        "# 데이터가 모두 스트링 타입으로 기입되어 있다. 고유 데이터 타입으로 전환\n",
        "import ast\n",
        "\n",
        "def literal_return(val):\n",
        "    try:\n",
        "        return ast.literal_eval(val)\n",
        "    except (ValueError, SyntaxError) as e:\n",
        "        return val\n",
        "\n",
        "\n",
        "df_train['genres'] = df_train['genres'].apply(literal_return)\n",
        "df_train['production_countries'] = df_train['production_countries'].apply(literal_return)\n",
        "df_train['spoken_languages'] = df_train['spoken_languages'].apply(literal_return)\n",
        "df_train['cast'] = df_train['cast'].apply(literal_return)\n",
        "\n",
        "\n",
        "df_test['genres'] = df_test['genres'].apply(literal_return)\n",
        "df_test['production_countries'] = df_test['production_countries'].apply(literal_return)\n",
        "df_test['spoken_languages'] = df_test['spoken_languages'].apply(literal_return)\n",
        "df_test['cast'] = df_test['cast'].apply(literal_return)\n"
      ],
      "execution_count": 0,
      "outputs": []
    },
    {
      "cell_type": "markdown",
      "metadata": {
        "id": "OQquDd__wPbN",
        "colab_type": "text"
      },
      "source": [
        "### production countries\n",
        "\n",
        "1. dict 벗겨내서 첫 번재 국가로 변환\n",
        "\n",
        "2. 북미, 유럽, 기타 국가로 카테고리 지정 (value_counts 를 통해 자주 나오는 국가만 임의로 취합했습니다)"
      ]
    },
    {
      "cell_type": "code",
      "metadata": {
        "id": "BBw8N_8ewPbT",
        "colab_type": "code",
        "colab": {}
      },
      "source": [
        "df_train['production_countries'] = pd.Series(item[0]['iso_3166_1'] for item in df_train['production_countries'])\n",
        "df_test['production_countries'] = pd.Series(item[0]['iso_3166_1'] for item in df_test['production_countries'])"
      ],
      "execution_count": 0,
      "outputs": []
    },
    {
      "cell_type": "code",
      "metadata": {
        "id": "5nWiHt8UwPbb",
        "colab_type": "code",
        "colab": {}
      },
      "source": [
        "def categrize_country(country):\n",
        "    if country in (['US', 'CA']):\n",
        "        return 'north_america'\n",
        "    elif country in (['GB', 'FR', 'DE', 'RU', 'ES', 'IT']):  # 영 프 독 러 스페인 이탈리아\n",
        "        return 'europe'\n",
        "    elif country in (['IN', 'in']):\n",
        "        return 'india'\n",
        "    else:\n",
        "        return 'etc'\n",
        "\n",
        "\n",
        "# 카테고리로 구분하는 칼럼 만들기\n",
        "\n",
        "df_train['production_counties_cate'] = df_train['production_countries'].apply(categrize_country)\n",
        "\n",
        "df_test['production_counties_cate'] = df_test['production_countries'].apply(categrize_country)\n"
      ],
      "execution_count": 0,
      "outputs": []
    },
    {
      "cell_type": "code",
      "metadata": {
        "id": "z_PiVw1ieTfF",
        "colab_type": "code",
        "colab": {
          "base_uri": "https://localhost:8080/",
          "height": 111
        },
        "outputId": "93014884-c894-4c59-81e7-f09bc41e1446"
      },
      "source": [
        "df_train['production_counties_cate'].value_counts()"
      ],
      "execution_count": 116,
      "outputs": [
        {
          "output_type": "execute_result",
          "data": {
            "text/plain": [
              "north_america    1898\n",
              "europe            580\n",
              "etc               364\n",
              "india              77\n",
              "Name: production_counties_cate, dtype: int64"
            ]
          },
          "metadata": {
            "tags": []
          },
          "execution_count": 116
        }
      ]
    },
    {
      "cell_type": "markdown",
      "metadata": {
        "id": "Or_ZIh_swPbi",
        "colab_type": "text"
      },
      "source": [
        "## spoken_languages\n",
        "\n",
        "1. production countries 칼럼과 비슷하지만 다름 (소문자 사용)\n",
        "2. 절대다수 영어이기 때문에 영어와 그 외로 구분"
      ]
    },
    {
      "cell_type": "code",
      "metadata": {
        "id": "DEAm8xw7wPbj",
        "colab_type": "code",
        "colab": {}
      },
      "source": [
        "df_train['spoken_languages'] = pd.Series(item[0]['iso_639_1'] for item in df_train['spoken_languages'])\n",
        "\n",
        "df_test['spoken_languages'] = pd.Series(item[0]['iso_639_1'] for item in df_test['spoken_languages'])\n",
        "\n",
        "\n",
        "\n",
        "def categrize_language(lan):\n",
        "    if lan == 'en':\n",
        "        return 'en'\n",
        "    else:\n",
        "        return 'etc'\n",
        "\n",
        "\n",
        "\n",
        "# 카테고리로 구분하는 칼럼 만들기\n",
        "\n",
        "df_train['spoken_languages_cate'] = df_train['spoken_languages'].apply(categrize_language)\n",
        "\n",
        "\n",
        "df_test['spoken_languages_cate'] = df_test['spoken_languages'].apply(categrize_language)\n",
        "\n"
      ],
      "execution_count": 0,
      "outputs": []
    },
    {
      "cell_type": "code",
      "metadata": {
        "id": "oLF904xkegY1",
        "colab_type": "code",
        "colab": {
          "base_uri": "https://localhost:8080/",
          "height": 73
        },
        "outputId": "df991b6d-8345-47f2-e3a2-67a897ac4d1d"
      },
      "source": [
        "df_train['spoken_languages_cate'].value_counts()"
      ],
      "execution_count": 118,
      "outputs": [
        {
          "output_type": "execute_result",
          "data": {
            "text/plain": [
              "en     2331\n",
              "etc     588\n",
              "Name: spoken_languages_cate, dtype: int64"
            ]
          },
          "metadata": {
            "tags": []
          },
          "execution_count": 118
        }
      ]
    },
    {
      "cell_type": "markdown",
      "metadata": {
        "id": "ErLxKyhQwPbr",
        "colab_type": "text"
      },
      "source": [
        "## 장르 dict 벗겨내서 인코딩 칼럼으로 "
      ]
    },
    {
      "cell_type": "code",
      "metadata": {
        "id": "jSAsuVXawPbt",
        "colab_type": "code",
        "colab": {}
      },
      "source": [
        "# 장르를 원핫인코딩 형태로 칼럼으로 전환 (더미변수)\n",
        "\n",
        "\n",
        "for num, temp_list in enumerate(df_train['genres']):\n",
        "    for genre_dict in temp_list:\n",
        "        try:\n",
        "            df_train.insert(0, f\"genre_{genre_dict['name']}\", np.nan)\n",
        "            df_train.loc[df_train.index == num, f\"genre_{genre_dict['name']}\"] = 1\n",
        "        except:\n",
        "            pass\n",
        "\n",
        "        \n",
        "for num, temp_list in enumerate(df_test['genres']):\n",
        "    for genre_dict in temp_list:\n",
        "        try:\n",
        "            df_test.insert(0, f\"genre_{genre_dict['name']}\", np.nan)\n",
        "            df_test.loc[df_test.index == num, f\"genre_{genre_dict['name']}\"] = 1\n",
        "        except:\n",
        "            pass"
      ],
      "execution_count": 0,
      "outputs": []
    },
    {
      "cell_type": "code",
      "metadata": {
        "id": "Na5sVY8xwPb1",
        "colab_type": "code",
        "outputId": "2fd5f743-a0fb-4fe7-f755-730210f49db8",
        "colab": {
          "base_uri": "https://localhost:8080/",
          "height": 186
        }
      },
      "source": [
        "# 코미디 장르인 1번 영화는 genre_Comedy 칼럼에 1.0 있고 나머진 NaN\n",
        "# 장르가 여러개면 여러 칼럼에 1.0 표기됨\n",
        "\n",
        "df_train.head(1)"
      ],
      "execution_count": 120,
      "outputs": [
        {
          "output_type": "execute_result",
          "data": {
            "text/html": [
              "<div>\n",
              "<style scoped>\n",
              "    .dataframe tbody tr th:only-of-type {\n",
              "        vertical-align: middle;\n",
              "    }\n",
              "\n",
              "    .dataframe tbody tr th {\n",
              "        vertical-align: top;\n",
              "    }\n",
              "\n",
              "    .dataframe thead th {\n",
              "        text-align: right;\n",
              "    }\n",
              "</style>\n",
              "<table border=\"1\" class=\"dataframe\">\n",
              "  <thead>\n",
              "    <tr style=\"text-align: right;\">\n",
              "      <th></th>\n",
              "      <th>genre_TV Movie</th>\n",
              "      <th>genre_History</th>\n",
              "      <th>genre_Documentary</th>\n",
              "      <th>genre_Western</th>\n",
              "      <th>genre_War</th>\n",
              "      <th>genre_Fantasy</th>\n",
              "      <th>genre_Animation</th>\n",
              "      <th>genre_Foreign</th>\n",
              "      <th>genre_Mystery</th>\n",
              "      <th>genre_Science Fiction</th>\n",
              "      <th>genre_Crime</th>\n",
              "      <th>genre_Adventure</th>\n",
              "      <th>genre_Music</th>\n",
              "      <th>genre_Horror</th>\n",
              "      <th>genre_Action</th>\n",
              "      <th>genre_Thriller</th>\n",
              "      <th>genre_Romance</th>\n",
              "      <th>genre_Family</th>\n",
              "      <th>genre_Drama</th>\n",
              "      <th>genre_Comedy</th>\n",
              "      <th>budget</th>\n",
              "      <th>genres</th>\n",
              "      <th>popularity</th>\n",
              "      <th>production_countries</th>\n",
              "      <th>spoken_languages</th>\n",
              "      <th>title</th>\n",
              "      <th>cast</th>\n",
              "      <th>revenue</th>\n",
              "      <th>production_counties_cate</th>\n",
              "      <th>spoken_languages_cate</th>\n",
              "    </tr>\n",
              "  </thead>\n",
              "  <tbody>\n",
              "    <tr>\n",
              "      <th>0</th>\n",
              "      <td>NaN</td>\n",
              "      <td>NaN</td>\n",
              "      <td>NaN</td>\n",
              "      <td>NaN</td>\n",
              "      <td>NaN</td>\n",
              "      <td>NaN</td>\n",
              "      <td>NaN</td>\n",
              "      <td>NaN</td>\n",
              "      <td>NaN</td>\n",
              "      <td>NaN</td>\n",
              "      <td>NaN</td>\n",
              "      <td>NaN</td>\n",
              "      <td>NaN</td>\n",
              "      <td>NaN</td>\n",
              "      <td>NaN</td>\n",
              "      <td>NaN</td>\n",
              "      <td>NaN</td>\n",
              "      <td>NaN</td>\n",
              "      <td>NaN</td>\n",
              "      <td>1.0</td>\n",
              "      <td>14000000</td>\n",
              "      <td>[{'id': 35, 'name': 'Comedy'}]</td>\n",
              "      <td>6.575393</td>\n",
              "      <td>US</td>\n",
              "      <td>en</td>\n",
              "      <td>Hot Tub Time Machine 2</td>\n",
              "      <td>[{'cast_id': 4, 'character': 'Lou', 'credit_id...</td>\n",
              "      <td>12314651</td>\n",
              "      <td>north_america</td>\n",
              "      <td>en</td>\n",
              "    </tr>\n",
              "  </tbody>\n",
              "</table>\n",
              "</div>"
            ],
            "text/plain": [
              "   genre_TV Movie  genre_History  genre_Documentary  genre_Western  genre_War  \\\n",
              "0             NaN            NaN                NaN            NaN        NaN   \n",
              "\n",
              "   genre_Fantasy  genre_Animation  genre_Foreign  genre_Mystery  \\\n",
              "0            NaN              NaN            NaN            NaN   \n",
              "\n",
              "   genre_Science Fiction  genre_Crime  genre_Adventure  genre_Music  \\\n",
              "0                    NaN          NaN              NaN          NaN   \n",
              "\n",
              "   genre_Horror  genre_Action  genre_Thriller  genre_Romance  genre_Family  \\\n",
              "0           NaN           NaN             NaN            NaN           NaN   \n",
              "\n",
              "   genre_Drama  genre_Comedy    budget                          genres  \\\n",
              "0          NaN           1.0  14000000  [{'id': 35, 'name': 'Comedy'}]   \n",
              "\n",
              "   popularity production_countries spoken_languages                   title  \\\n",
              "0    6.575393                   US               en  Hot Tub Time Machine 2   \n",
              "\n",
              "                                                cast   revenue  \\\n",
              "0  [{'cast_id': 4, 'character': 'Lou', 'credit_id...  12314651   \n",
              "\n",
              "  production_counties_cate spoken_languages_cate  \n",
              "0            north_america                    en  "
            ]
          },
          "metadata": {
            "tags": []
          },
          "execution_count": 120
        }
      ]
    },
    {
      "cell_type": "markdown",
      "metadata": {
        "id": "yBNAYKVSwPcB",
        "colab_type": "text"
      },
      "source": [
        "## 영화예산 (budget)으로 등급 만들기\n",
        "-> 회귀에 사용해도 되지만, 캐스팅 배우를 등급 나누기 위해 만들었습니다"
      ]
    },
    {
      "cell_type": "code",
      "metadata": {
        "id": "n9N_aVdUwPcD",
        "colab_type": "code",
        "colab": {}
      },
      "source": [
        "# 영화 예산을 자체적으로 3등분\n",
        "# 상위 25% 는 3점 ... 이런 식으로\n",
        "\n",
        "def budget_level(budget):\n",
        "    budget_list = df_train['budget'].tolist()\n",
        "    q1, q3 = np.percentile(budget_list, [25, 75])\n",
        "    if budget > q3:\n",
        "        return 3\n",
        "    elif q1 < budget <= q3:\n",
        "        return 2\n",
        "    else:\n",
        "        return 1\n",
        "\n",
        "df_train['budget_level'] = df_train['budget'].apply(budget_level)\n",
        "\n",
        "df_test['budget_level'] = df_test['budget'].apply(budget_level)\n"
      ],
      "execution_count": 0,
      "outputs": []
    },
    {
      "cell_type": "markdown",
      "metadata": {
        "id": "pG7H-xqfwPcK",
        "colab_type": "text"
      },
      "source": [
        "## 출연 배우 (cast) 전처리"
      ]
    },
    {
      "cell_type": "code",
      "metadata": {
        "id": "QfTAg4txwPcN",
        "colab_type": "code",
        "colab": {}
      },
      "source": [
        "# 캐스팅 배우 전처리 방식 1 - 일단 규모로 파악하기\n",
        "\n",
        "df_train['casting_size'] = pd.Series(len(temp_list) for temp_list in df_train['cast'])\n",
        "\n",
        "df_test['casting_size'] = pd.Series(len(temp_list) for temp_list in df_test['cast'])\n"
      ],
      "execution_count": 0,
      "outputs": []
    },
    {
      "cell_type": "markdown",
      "metadata": {
        "id": "FKKCrcccwPcV",
        "colab_type": "text"
      },
      "source": [
        "캐스팅 배우 전처리 방식 2 - 비싼 영화에 출연했는지 여부로 배우 등급 먹이기\n",
        "\n",
        "\n",
        "step 1. cast의 dict를 벗겨내서 주요 출연자만 5명 가량 뽑히도록 리스트를 만들어줍니다 (def main_cast)\n",
        "\n",
        "step 2. budget level에 따라 비싼 영화에 출연한 배우 리스트, 중급 영화에 출연한 배우 리스트 등을 만듭니다\n",
        "\n",
        "\n",
        "step 3. 주요 출연진이 어느 등급에 속했는지에 따라 점수를 매겨 합해 채점합니다\n",
        "\n"
      ]
    },
    {
      "cell_type": "code",
      "metadata": {
        "id": "vpmni38bwPcW",
        "colab_type": "code",
        "colab": {}
      },
      "source": [
        "\n",
        "# step 1 메인 출연진 뽑아내기\n",
        "\n",
        "def main_cast(casts):\n",
        "\n",
        "    temp_main_cast_list = []\n",
        "    \n",
        "    if 5 < len(casts) < 15:\n",
        "        for order in range(int(len(casts)*0.5)):\n",
        "            temp_main_cast_list.append(casts[order]['name'])\n",
        "    elif 15 < len(casts) < 20:\n",
        "        for order in range(int(len(casts)*0.2)):\n",
        "            temp_main_cast_list.append(casts[order]['name'])\n",
        "    elif 20 < len(casts):\n",
        "        for order in range(int(len(casts)*0.2)):\n",
        "            temp_main_cast_list.append(casts[order]['name'])\n",
        "    else:\n",
        "        for order in range(len(casts)):\n",
        "            temp_main_cast_list.append(casts[order]['name'])\n",
        "    return temp_main_cast_list\n",
        "\n",
        "df_train['main_cast'] =  df_train['cast'].apply(main_cast)\n",
        "\n",
        "df_test['main_cast'] =  df_test['cast'].apply(main_cast)\n",
        "\n",
        "\n",
        "\n",
        "\n",
        "# step 2 배우 등급 나누기\n",
        "\n",
        "high_level_actor = []\n",
        "for actor_list in df_train.loc[df_train['budget_level'] == 3, 'main_cast']:\n",
        "    for actor in actor_list:\n",
        "        high_level_actor.append(actor)\n",
        "        \n",
        "mid_level_actor = []\n",
        "for actor_list in df_train.loc[df_train['budget_level'] == 2, 'main_cast']:\n",
        "    for actor in actor_list:\n",
        "        high_level_actor.append(actor)\n",
        "\n",
        "low_level_actor = []\n",
        "for actor_list in df_train.loc[df_train['budget_level'] == 1, 'main_cast']:\n",
        "    for actor in actor_list:\n",
        "        high_level_actor.append(actor)\n",
        "\n",
        "\n",
        "        "
      ],
      "execution_count": 0,
      "outputs": []
    },
    {
      "cell_type": "code",
      "metadata": {
        "id": "JT4MHyU_wPce",
        "colab_type": "code",
        "colab": {}
      },
      "source": [
        "# step 3 총점 합하기\n",
        "\n",
        "def train_cast_point(main_cast_list):\n",
        "    final_score = []\n",
        "    if len(main_cast_list) == 0:\n",
        "        return 0\n",
        "    else:\n",
        "        for actor in main_cast_list:\n",
        "            if actor in high_level_actor:\n",
        "                final_score.append(3)\n",
        "            elif actor in mid_level_actor:\n",
        "                final_score.append(2)\n",
        "            else:\n",
        "                final_score.append(1)\n",
        "\n",
        "        return sum(final_score)\n",
        "\n",
        "df_train['cast_score'] = df_train['main_cast'].apply(train_cast_point)"
      ],
      "execution_count": 0,
      "outputs": []
    },
    {
      "cell_type": "code",
      "metadata": {
        "id": "097sSI_RwPcl",
        "colab_type": "code",
        "colab": {}
      },
      "source": [
        "# df_test에서도 마찬가지로 진행\n",
        "high_level_actor = []\n",
        "for actor_list in df_test.loc[df_test['budget_level'] == 3, 'main_cast']:\n",
        "    for actor in actor_list:\n",
        "        high_level_actor.append(actor)\n",
        "        \n",
        "mid_level_actor = []\n",
        "for actor_list in df_test.loc[df_test['budget_level'] == 2, 'main_cast']:\n",
        "    for actor in actor_list:\n",
        "        high_level_actor.append(actor)\n",
        "\n",
        "low_level_actor = []\n",
        "for actor_list in df_test.loc[df_test['budget_level'] == 1, 'main_cast']:\n",
        "    for actor in actor_list:\n",
        "        high_level_actor.append(actor)\n",
        "\n",
        "def test_cast_point(main_cast_list):\n",
        "    final_score = []\n",
        "    if len(main_cast_list) == 0:\n",
        "        return 0\n",
        "    else:\n",
        "        for actor in main_cast_list:\n",
        "            if actor in high_level_actor:\n",
        "                final_score.append(3)\n",
        "            elif actor in mid_level_actor:\n",
        "                final_score.append(2)\n",
        "            else:\n",
        "                final_score.append(1)\n",
        "\n",
        "        return sum(final_score)\n",
        "\n",
        "\n",
        "\n",
        "df_test['cast_score'] = df_test['main_cast'].apply(test_cast_point)\n",
        "df_test = df_test.drop(['genres', 'title', 'cast', 'spoken_languages', 'production_countries'], axis = 1)"
      ],
      "execution_count": 0,
      "outputs": []
    },
    {
      "cell_type": "markdown",
      "metadata": {
        "id": "MR2iogI-wPcr",
        "colab_type": "text"
      },
      "source": [
        "## 쓸모없어진 칼럼 제거"
      ]
    },
    {
      "cell_type": "code",
      "metadata": {
        "id": "6dKzfR8YwPcs",
        "colab_type": "code",
        "colab": {}
      },
      "source": [
        "df_train = df_train.drop(['genres', 'title', 'cast', 'spoken_languages', 'production_countries'], axis = 1)"
      ],
      "execution_count": 0,
      "outputs": []
    },
    {
      "cell_type": "code",
      "metadata": {
        "id": "3jkZY5C5wPcy",
        "colab_type": "code",
        "outputId": "c181ed8b-c48f-4530-b30e-194752b53c19",
        "colab": {
          "base_uri": "https://localhost:8080/",
          "height": 36
        }
      },
      "source": [
        "# revenue 칼럼이 타겟으로 가야하는데 어중간한 위치에 속해있어서 마지막 칼럼으로 옮겨주는 작업\n",
        "df_train.columns[22]"
      ],
      "execution_count": 127,
      "outputs": [
        {
          "output_type": "execute_result",
          "data": {
            "text/plain": [
              "'revenue'"
            ]
          },
          "metadata": {
            "tags": []
          },
          "execution_count": 127
        }
      ]
    },
    {
      "cell_type": "code",
      "metadata": {
        "id": "pj2TsNyPwPdI",
        "colab_type": "code",
        "colab": {}
      },
      "source": [
        "cols = df_train.columns.tolist()\n",
        "cols = cols[:21] + cols[23:] + [cols[22]]\n",
        "df_train = df_train[cols]"
      ],
      "execution_count": 0,
      "outputs": []
    },
    {
      "cell_type": "code",
      "metadata": {
        "id": "TEhtBsrnwPdP",
        "colab_type": "code",
        "colab": {}
      },
      "source": [
        "# 공갈로 만들어둔 df_test의 revenue도 이제 제거\n",
        "\n",
        "df_test = df_test.drop('revenue', axis=1)"
      ],
      "execution_count": 0,
      "outputs": []
    },
    {
      "cell_type": "code",
      "metadata": {
        "id": "fCBto2YBwPdX",
        "colab_type": "code",
        "outputId": "082b890d-dd51-4881-da51-f9a18a9cf517",
        "colab": {
          "base_uri": "https://localhost:8080/",
          "height": 338
        }
      },
      "source": [
        "df_train.head(2)"
      ],
      "execution_count": 130,
      "outputs": [
        {
          "output_type": "execute_result",
          "data": {
            "text/html": [
              "<div>\n",
              "<style scoped>\n",
              "    .dataframe tbody tr th:only-of-type {\n",
              "        vertical-align: middle;\n",
              "    }\n",
              "\n",
              "    .dataframe tbody tr th {\n",
              "        vertical-align: top;\n",
              "    }\n",
              "\n",
              "    .dataframe thead th {\n",
              "        text-align: right;\n",
              "    }\n",
              "</style>\n",
              "<table border=\"1\" class=\"dataframe\">\n",
              "  <thead>\n",
              "    <tr style=\"text-align: right;\">\n",
              "      <th></th>\n",
              "      <th>genre_TV Movie</th>\n",
              "      <th>genre_History</th>\n",
              "      <th>genre_Documentary</th>\n",
              "      <th>genre_Western</th>\n",
              "      <th>genre_War</th>\n",
              "      <th>genre_Fantasy</th>\n",
              "      <th>genre_Animation</th>\n",
              "      <th>genre_Foreign</th>\n",
              "      <th>genre_Mystery</th>\n",
              "      <th>genre_Science Fiction</th>\n",
              "      <th>genre_Crime</th>\n",
              "      <th>genre_Adventure</th>\n",
              "      <th>genre_Music</th>\n",
              "      <th>genre_Horror</th>\n",
              "      <th>genre_Action</th>\n",
              "      <th>genre_Thriller</th>\n",
              "      <th>genre_Romance</th>\n",
              "      <th>genre_Family</th>\n",
              "      <th>genre_Drama</th>\n",
              "      <th>genre_Comedy</th>\n",
              "      <th>budget</th>\n",
              "      <th>production_counties_cate</th>\n",
              "      <th>spoken_languages_cate</th>\n",
              "      <th>budget_level</th>\n",
              "      <th>casting_size</th>\n",
              "      <th>main_cast</th>\n",
              "      <th>cast_score</th>\n",
              "      <th>revenue</th>\n",
              "    </tr>\n",
              "  </thead>\n",
              "  <tbody>\n",
              "    <tr>\n",
              "      <th>0</th>\n",
              "      <td>NaN</td>\n",
              "      <td>NaN</td>\n",
              "      <td>NaN</td>\n",
              "      <td>NaN</td>\n",
              "      <td>NaN</td>\n",
              "      <td>NaN</td>\n",
              "      <td>NaN</td>\n",
              "      <td>NaN</td>\n",
              "      <td>NaN</td>\n",
              "      <td>NaN</td>\n",
              "      <td>NaN</td>\n",
              "      <td>NaN</td>\n",
              "      <td>NaN</td>\n",
              "      <td>NaN</td>\n",
              "      <td>NaN</td>\n",
              "      <td>NaN</td>\n",
              "      <td>NaN</td>\n",
              "      <td>NaN</td>\n",
              "      <td>NaN</td>\n",
              "      <td>1.0</td>\n",
              "      <td>14000000</td>\n",
              "      <td>north_america</td>\n",
              "      <td>en</td>\n",
              "      <td>2</td>\n",
              "      <td>24</td>\n",
              "      <td>[Rob Corddry, Craig Robinson, Clark Duke, Adam...</td>\n",
              "      <td>12</td>\n",
              "      <td>12314651</td>\n",
              "    </tr>\n",
              "    <tr>\n",
              "      <th>1</th>\n",
              "      <td>NaN</td>\n",
              "      <td>NaN</td>\n",
              "      <td>NaN</td>\n",
              "      <td>NaN</td>\n",
              "      <td>NaN</td>\n",
              "      <td>NaN</td>\n",
              "      <td>NaN</td>\n",
              "      <td>NaN</td>\n",
              "      <td>NaN</td>\n",
              "      <td>NaN</td>\n",
              "      <td>NaN</td>\n",
              "      <td>NaN</td>\n",
              "      <td>NaN</td>\n",
              "      <td>NaN</td>\n",
              "      <td>NaN</td>\n",
              "      <td>NaN</td>\n",
              "      <td>1.0</td>\n",
              "      <td>1.0</td>\n",
              "      <td>1.0</td>\n",
              "      <td>NaN</td>\n",
              "      <td>40000000</td>\n",
              "      <td>north_america</td>\n",
              "      <td>en</td>\n",
              "      <td>3</td>\n",
              "      <td>20</td>\n",
              "      <td>[Anne Hathaway, Julie Andrews, H��?ctor Elizon...</td>\n",
              "      <td>60</td>\n",
              "      <td>95149435</td>\n",
              "    </tr>\n",
              "  </tbody>\n",
              "</table>\n",
              "</div>"
            ],
            "text/plain": [
              "   genre_TV Movie  genre_History  genre_Documentary  genre_Western  genre_War  \\\n",
              "0             NaN            NaN                NaN            NaN        NaN   \n",
              "1             NaN            NaN                NaN            NaN        NaN   \n",
              "\n",
              "   genre_Fantasy  genre_Animation  genre_Foreign  genre_Mystery  \\\n",
              "0            NaN              NaN            NaN            NaN   \n",
              "1            NaN              NaN            NaN            NaN   \n",
              "\n",
              "   genre_Science Fiction  genre_Crime  genre_Adventure  genre_Music  \\\n",
              "0                    NaN          NaN              NaN          NaN   \n",
              "1                    NaN          NaN              NaN          NaN   \n",
              "\n",
              "   genre_Horror  genre_Action  genre_Thriller  genre_Romance  genre_Family  \\\n",
              "0           NaN           NaN             NaN            NaN           NaN   \n",
              "1           NaN           NaN             NaN            1.0           1.0   \n",
              "\n",
              "   genre_Drama  genre_Comedy    budget production_counties_cate  \\\n",
              "0          NaN           1.0  14000000            north_america   \n",
              "1          1.0           NaN  40000000            north_america   \n",
              "\n",
              "  spoken_languages_cate  budget_level  casting_size  \\\n",
              "0                    en             2            24   \n",
              "1                    en             3            20   \n",
              "\n",
              "                                           main_cast  cast_score   revenue  \n",
              "0  [Rob Corddry, Craig Robinson, Clark Duke, Adam...          12  12314651  \n",
              "1  [Anne Hathaway, Julie Andrews, H��?ctor Elizon...          60  95149435  "
            ]
          },
          "metadata": {
            "tags": []
          },
          "execution_count": 130
        }
      ]
    },
    {
      "cell_type": "code",
      "metadata": {
        "id": "CT1nvgk9wPde",
        "colab_type": "code",
        "outputId": "cfcea88a-b541-47bc-fc4a-67826b9abc46",
        "colab": {
          "base_uri": "https://localhost:8080/",
          "height": 286
        }
      },
      "source": [
        "df_test.head(2)"
      ],
      "execution_count": 131,
      "outputs": [
        {
          "output_type": "execute_result",
          "data": {
            "text/html": [
              "<div>\n",
              "<style scoped>\n",
              "    .dataframe tbody tr th:only-of-type {\n",
              "        vertical-align: middle;\n",
              "    }\n",
              "\n",
              "    .dataframe tbody tr th {\n",
              "        vertical-align: top;\n",
              "    }\n",
              "\n",
              "    .dataframe thead th {\n",
              "        text-align: right;\n",
              "    }\n",
              "</style>\n",
              "<table border=\"1\" class=\"dataframe\">\n",
              "  <thead>\n",
              "    <tr style=\"text-align: right;\">\n",
              "      <th></th>\n",
              "      <th>genre_Foreign</th>\n",
              "      <th>genre_Western</th>\n",
              "      <th>genre_Crime</th>\n",
              "      <th>genre_Music</th>\n",
              "      <th>genre_Action</th>\n",
              "      <th>genre_Thriller</th>\n",
              "      <th>genre_Documentary</th>\n",
              "      <th>genre_History</th>\n",
              "      <th>genre_Mystery</th>\n",
              "      <th>genre_War</th>\n",
              "      <th>genre_Drama</th>\n",
              "      <th>genre_Romance</th>\n",
              "      <th>genre_Comedy</th>\n",
              "      <th>genre_Science Fiction</th>\n",
              "      <th>genre_Horror</th>\n",
              "      <th>genre_Fantasy</th>\n",
              "      <th>genre_Family</th>\n",
              "      <th>genre_Animation</th>\n",
              "      <th>genre_Adventure</th>\n",
              "      <th>budget</th>\n",
              "      <th>popularity</th>\n",
              "      <th>production_counties_cate</th>\n",
              "      <th>spoken_languages_cate</th>\n",
              "      <th>budget_level</th>\n",
              "      <th>casting_size</th>\n",
              "      <th>main_cast</th>\n",
              "      <th>cast_score</th>\n",
              "    </tr>\n",
              "  </thead>\n",
              "  <tbody>\n",
              "    <tr>\n",
              "      <th>0</th>\n",
              "      <td>NaN</td>\n",
              "      <td>NaN</td>\n",
              "      <td>NaN</td>\n",
              "      <td>NaN</td>\n",
              "      <td>NaN</td>\n",
              "      <td>NaN</td>\n",
              "      <td>NaN</td>\n",
              "      <td>NaN</td>\n",
              "      <td>NaN</td>\n",
              "      <td>NaN</td>\n",
              "      <td>NaN</td>\n",
              "      <td>NaN</td>\n",
              "      <td>NaN</td>\n",
              "      <td>NaN</td>\n",
              "      <td>NaN</td>\n",
              "      <td>1.0</td>\n",
              "      <td>1.0</td>\n",
              "      <td>1.0</td>\n",
              "      <td>1.0</td>\n",
              "      <td>0</td>\n",
              "      <td>3.851534</td>\n",
              "      <td>etc</td>\n",
              "      <td>en</td>\n",
              "      <td>1</td>\n",
              "      <td>7</td>\n",
              "      <td>[Craig Blair, Emily Bauer, Sarah Natochenny]</td>\n",
              "      <td>9</td>\n",
              "    </tr>\n",
              "    <tr>\n",
              "      <th>1</th>\n",
              "      <td>NaN</td>\n",
              "      <td>NaN</td>\n",
              "      <td>NaN</td>\n",
              "      <td>NaN</td>\n",
              "      <td>NaN</td>\n",
              "      <td>NaN</td>\n",
              "      <td>NaN</td>\n",
              "      <td>NaN</td>\n",
              "      <td>NaN</td>\n",
              "      <td>NaN</td>\n",
              "      <td>NaN</td>\n",
              "      <td>NaN</td>\n",
              "      <td>NaN</td>\n",
              "      <td>1.0</td>\n",
              "      <td>1.0</td>\n",
              "      <td>NaN</td>\n",
              "      <td>NaN</td>\n",
              "      <td>NaN</td>\n",
              "      <td>NaN</td>\n",
              "      <td>88000</td>\n",
              "      <td>3.559789</td>\n",
              "      <td>north_america</td>\n",
              "      <td>en</td>\n",
              "      <td>2</td>\n",
              "      <td>10</td>\n",
              "      <td>[Allison Hayes, William Hudson, Yvette Vickers...</td>\n",
              "      <td>15</td>\n",
              "    </tr>\n",
              "  </tbody>\n",
              "</table>\n",
              "</div>"
            ],
            "text/plain": [
              "   genre_Foreign  genre_Western  genre_Crime  genre_Music  genre_Action  \\\n",
              "0            NaN            NaN          NaN          NaN           NaN   \n",
              "1            NaN            NaN          NaN          NaN           NaN   \n",
              "\n",
              "   genre_Thriller  genre_Documentary  genre_History  genre_Mystery  genre_War  \\\n",
              "0             NaN                NaN            NaN            NaN        NaN   \n",
              "1             NaN                NaN            NaN            NaN        NaN   \n",
              "\n",
              "   genre_Drama  genre_Romance  genre_Comedy  genre_Science Fiction  \\\n",
              "0          NaN            NaN           NaN                    NaN   \n",
              "1          NaN            NaN           NaN                    1.0   \n",
              "\n",
              "   genre_Horror  genre_Fantasy  genre_Family  genre_Animation  \\\n",
              "0           NaN            1.0           1.0              1.0   \n",
              "1           1.0            NaN           NaN              NaN   \n",
              "\n",
              "   genre_Adventure  budget  popularity production_counties_cate  \\\n",
              "0              1.0       0    3.851534                      etc   \n",
              "1              NaN   88000    3.559789            north_america   \n",
              "\n",
              "  spoken_languages_cate  budget_level  casting_size  \\\n",
              "0                    en             1             7   \n",
              "1                    en             2            10   \n",
              "\n",
              "                                           main_cast  cast_score  \n",
              "0       [Craig Blair, Emily Bauer, Sarah Natochenny]           9  \n",
              "1  [Allison Hayes, William Hudson, Yvette Vickers...          15  "
            ]
          },
          "metadata": {
            "tags": []
          },
          "execution_count": 131
        }
      ]
    },
    {
      "cell_type": "code",
      "metadata": {
        "id": "1YIFuelywPdk",
        "colab_type": "code",
        "colab": {}
      },
      "source": [
        "# nan값을 0으로 처리 \n",
        "df_train = df_train.fillna(0)"
      ],
      "execution_count": 0,
      "outputs": []
    },
    {
      "cell_type": "code",
      "metadata": {
        "id": "eqUyRRS7S4oU",
        "colab_type": "code",
        "colab": {}
      },
      "source": [
        "df_test = df_test.fillna(0)"
      ],
      "execution_count": 0,
      "outputs": []
    },
    {
      "cell_type": "code",
      "metadata": {
        "id": "E52IoD15Rud8",
        "colab_type": "code",
        "colab": {
          "base_uri": "https://localhost:8080/",
          "height": 36
        },
        "outputId": "7f9efc2c-3366-4ac8-ab25-fccdcb4f3ef7"
      },
      "source": [
        "print(df_train.shape, df_test.shape) #feature수 같은지를 확인 "
      ],
      "execution_count": 134,
      "outputs": [
        {
          "output_type": "stream",
          "text": [
            "(2919, 28) (4262, 27)\n"
          ],
          "name": "stdout"
        }
      ]
    },
    {
      "cell_type": "code",
      "metadata": {
        "id": "2VqJKVKVScVb",
        "colab_type": "code",
        "colab": {
          "base_uri": "https://localhost:8080/",
          "height": 185
        },
        "outputId": "60ecde72-4a57-4573-eab5-25d26b4a9f5d"
      },
      "source": [
        "# 다른 feature 확인 \n",
        "df_train.columns"
      ],
      "execution_count": 135,
      "outputs": [
        {
          "output_type": "execute_result",
          "data": {
            "text/plain": [
              "Index(['genre_TV Movie', 'genre_History', 'genre_Documentary', 'genre_Western',\n",
              "       'genre_War', 'genre_Fantasy', 'genre_Animation', 'genre_Foreign',\n",
              "       'genre_Mystery', 'genre_Science Fiction', 'genre_Crime',\n",
              "       'genre_Adventure', 'genre_Music', 'genre_Horror', 'genre_Action',\n",
              "       'genre_Thriller', 'genre_Romance', 'genre_Family', 'genre_Drama',\n",
              "       'genre_Comedy', 'budget', 'production_counties_cate',\n",
              "       'spoken_languages_cate', 'budget_level', 'casting_size', 'main_cast',\n",
              "       'cast_score', 'revenue'],\n",
              "      dtype='object')"
            ]
          },
          "metadata": {
            "tags": []
          },
          "execution_count": 135
        }
      ]
    },
    {
      "cell_type": "code",
      "metadata": {
        "id": "EiHNZ8QwZSWx",
        "colab_type": "code",
        "colab": {
          "base_uri": "https://localhost:8080/",
          "height": 671
        },
        "outputId": "b923e282-658e-41c3-f0e2-d4b86d1ca184"
      },
      "source": [
        "df_train.info()"
      ],
      "execution_count": 136,
      "outputs": [
        {
          "output_type": "stream",
          "text": [
            "<class 'pandas.core.frame.DataFrame'>\n",
            "RangeIndex: 2919 entries, 0 to 2918\n",
            "Data columns (total 28 columns):\n",
            " #   Column                    Non-Null Count  Dtype  \n",
            "---  ------                    --------------  -----  \n",
            " 0   genre_TV Movie            2919 non-null   float64\n",
            " 1   genre_History             2919 non-null   float64\n",
            " 2   genre_Documentary         2919 non-null   float64\n",
            " 3   genre_Western             2919 non-null   float64\n",
            " 4   genre_War                 2919 non-null   float64\n",
            " 5   genre_Fantasy             2919 non-null   float64\n",
            " 6   genre_Animation           2919 non-null   float64\n",
            " 7   genre_Foreign             2919 non-null   float64\n",
            " 8   genre_Mystery             2919 non-null   float64\n",
            " 9   genre_Science Fiction     2919 non-null   float64\n",
            " 10  genre_Crime               2919 non-null   float64\n",
            " 11  genre_Adventure           2919 non-null   float64\n",
            " 12  genre_Music               2919 non-null   float64\n",
            " 13  genre_Horror              2919 non-null   float64\n",
            " 14  genre_Action              2919 non-null   float64\n",
            " 15  genre_Thriller            2919 non-null   float64\n",
            " 16  genre_Romance             2919 non-null   float64\n",
            " 17  genre_Family              2919 non-null   float64\n",
            " 18  genre_Drama               2919 non-null   float64\n",
            " 19  genre_Comedy              2919 non-null   float64\n",
            " 20  budget                    2919 non-null   int64  \n",
            " 21  production_counties_cate  2919 non-null   object \n",
            " 22  spoken_languages_cate     2919 non-null   object \n",
            " 23  budget_level              2919 non-null   int64  \n",
            " 24  casting_size              2919 non-null   int64  \n",
            " 25  main_cast                 2919 non-null   object \n",
            " 26  cast_score                2919 non-null   int64  \n",
            " 27  revenue                   2919 non-null   int64  \n",
            "dtypes: float64(20), int64(5), object(3)\n",
            "memory usage: 638.7+ KB\n"
          ],
          "name": "stdout"
        }
      ]
    },
    {
      "cell_type": "markdown",
      "metadata": {
        "id": "_Enb7y0Vaejg",
        "colab_type": "text"
      },
      "source": [
        "- object type인 열의 **production_countries_cate, spoken_languages_cate, main_cast**를 어떻게 처리할 것인지 (df_train, df_test모두 적용)\n",
        "1. production_countries_cate : 4개의 국가만 있음 -> 원핫인코딩\n",
        "2. spoken_languages_cate -> 영어 or not이므로 0,1값으로만 각각 변환\n",
        "3. main_cast -> cast_score에서 main_cast의 정보를 사용했으므로 버림. "
      ]
    },
    {
      "cell_type": "code",
      "metadata": {
        "id": "LZ1IJDTWbJo9",
        "colab_type": "code",
        "colab": {}
      },
      "source": [
        "# production_countries_cate 원핫 인코딩\n",
        "df_train_proc_onehot = pd.get_dummies(df_train['production_counties_cate'],drop_first=True)\n",
        "df_test_proc_onehot = pd.get_dummies(df_test['production_counties_cate'], drop_first=True)"
      ],
      "execution_count": 0,
      "outputs": []
    },
    {
      "cell_type": "code",
      "metadata": {
        "id": "Wip2mPrDl1nV",
        "colab_type": "code",
        "colab": {}
      },
      "source": [
        "df_train = pd.concat([df_train,df_train_proc_onehot],axis=1)\n",
        "df_train = df_train.drop(['production_counties_cate'], axis=1)\n",
        "\n",
        "df_test = pd.concat([df_test,df_test_proc_onehot],axis=1)\n",
        "df_test = df_test.drop(['production_counties_cate'], axis=1)"
      ],
      "execution_count": 0,
      "outputs": []
    },
    {
      "cell_type": "code",
      "metadata": {
        "id": "zGChykPJfINq",
        "colab_type": "code",
        "colab": {}
      },
      "source": [
        "# spoken_languages_cate == eng이면 1, etc이면 0으로 변환\n",
        "df_train_lang_onehot = pd.get_dummies(df_train['spoken_languages_cate'],drop_first=True)\n",
        "df_test_lang_onehot = pd.get_dummies(df_test['spoken_languages_cate'],drop_first=True)"
      ],
      "execution_count": 0,
      "outputs": []
    },
    {
      "cell_type": "code",
      "metadata": {
        "id": "w2_HEFjUmWiU",
        "colab_type": "code",
        "colab": {}
      },
      "source": [
        "df_train = pd.concat([df_train,df_train_lang_onehot],axis=1)\n",
        "df_train = df_train.drop(['spoken_languages_cate'], axis=1)\n",
        "\n",
        "df_test = pd.concat([df_test,df_test_lang_onehot],axis=1)\n",
        "df_test = df_test.drop(['spoken_languages_cate'], axis=1)"
      ],
      "execution_count": 0,
      "outputs": []
    },
    {
      "cell_type": "code",
      "metadata": {
        "id": "eCydwkyNfNAk",
        "colab_type": "code",
        "colab": {}
      },
      "source": [
        "# main_cast feature버림. \n",
        "drop_col = ['main_cast']\n",
        "df_train = df_train.drop(drop_col, axis=1)\n",
        "df_test = df_test.drop(drop_col, axis=1)"
      ],
      "execution_count": 0,
      "outputs": []
    },
    {
      "cell_type": "code",
      "metadata": {
        "id": "8awIVZPCm4wn",
        "colab_type": "code",
        "colab": {
          "base_uri": "https://localhost:8080/",
          "height": 147
        },
        "outputId": "ba3d0913-68d0-4dfb-da93-0ce0846a9713"
      },
      "source": [
        "df_train.head(2)"
      ],
      "execution_count": 146,
      "outputs": [
        {
          "output_type": "execute_result",
          "data": {
            "text/html": [
              "<div>\n",
              "<style scoped>\n",
              "    .dataframe tbody tr th:only-of-type {\n",
              "        vertical-align: middle;\n",
              "    }\n",
              "\n",
              "    .dataframe tbody tr th {\n",
              "        vertical-align: top;\n",
              "    }\n",
              "\n",
              "    .dataframe thead th {\n",
              "        text-align: right;\n",
              "    }\n",
              "</style>\n",
              "<table border=\"1\" class=\"dataframe\">\n",
              "  <thead>\n",
              "    <tr style=\"text-align: right;\">\n",
              "      <th></th>\n",
              "      <th>genre_TV Movie</th>\n",
              "      <th>genre_History</th>\n",
              "      <th>genre_Documentary</th>\n",
              "      <th>genre_Western</th>\n",
              "      <th>genre_War</th>\n",
              "      <th>genre_Fantasy</th>\n",
              "      <th>genre_Animation</th>\n",
              "      <th>genre_Foreign</th>\n",
              "      <th>genre_Mystery</th>\n",
              "      <th>genre_Science Fiction</th>\n",
              "      <th>genre_Crime</th>\n",
              "      <th>genre_Adventure</th>\n",
              "      <th>genre_Music</th>\n",
              "      <th>genre_Horror</th>\n",
              "      <th>genre_Action</th>\n",
              "      <th>genre_Thriller</th>\n",
              "      <th>genre_Romance</th>\n",
              "      <th>genre_Family</th>\n",
              "      <th>genre_Drama</th>\n",
              "      <th>genre_Comedy</th>\n",
              "      <th>budget</th>\n",
              "      <th>budget_level</th>\n",
              "      <th>casting_size</th>\n",
              "      <th>cast_score</th>\n",
              "      <th>revenue</th>\n",
              "      <th>europe</th>\n",
              "      <th>india</th>\n",
              "      <th>north_america</th>\n",
              "      <th>etc</th>\n",
              "    </tr>\n",
              "  </thead>\n",
              "  <tbody>\n",
              "    <tr>\n",
              "      <th>0</th>\n",
              "      <td>0.0</td>\n",
              "      <td>0.0</td>\n",
              "      <td>0.0</td>\n",
              "      <td>0.0</td>\n",
              "      <td>0.0</td>\n",
              "      <td>0.0</td>\n",
              "      <td>0.0</td>\n",
              "      <td>0.0</td>\n",
              "      <td>0.0</td>\n",
              "      <td>0.0</td>\n",
              "      <td>0.0</td>\n",
              "      <td>0.0</td>\n",
              "      <td>0.0</td>\n",
              "      <td>0.0</td>\n",
              "      <td>0.0</td>\n",
              "      <td>0.0</td>\n",
              "      <td>0.0</td>\n",
              "      <td>0.0</td>\n",
              "      <td>0.0</td>\n",
              "      <td>1.0</td>\n",
              "      <td>14000000</td>\n",
              "      <td>2</td>\n",
              "      <td>24</td>\n",
              "      <td>12</td>\n",
              "      <td>12314651</td>\n",
              "      <td>0</td>\n",
              "      <td>0</td>\n",
              "      <td>1</td>\n",
              "      <td>0</td>\n",
              "    </tr>\n",
              "    <tr>\n",
              "      <th>1</th>\n",
              "      <td>0.0</td>\n",
              "      <td>0.0</td>\n",
              "      <td>0.0</td>\n",
              "      <td>0.0</td>\n",
              "      <td>0.0</td>\n",
              "      <td>0.0</td>\n",
              "      <td>0.0</td>\n",
              "      <td>0.0</td>\n",
              "      <td>0.0</td>\n",
              "      <td>0.0</td>\n",
              "      <td>0.0</td>\n",
              "      <td>0.0</td>\n",
              "      <td>0.0</td>\n",
              "      <td>0.0</td>\n",
              "      <td>0.0</td>\n",
              "      <td>0.0</td>\n",
              "      <td>1.0</td>\n",
              "      <td>1.0</td>\n",
              "      <td>1.0</td>\n",
              "      <td>0.0</td>\n",
              "      <td>40000000</td>\n",
              "      <td>3</td>\n",
              "      <td>20</td>\n",
              "      <td>60</td>\n",
              "      <td>95149435</td>\n",
              "      <td>0</td>\n",
              "      <td>0</td>\n",
              "      <td>1</td>\n",
              "      <td>0</td>\n",
              "    </tr>\n",
              "  </tbody>\n",
              "</table>\n",
              "</div>"
            ],
            "text/plain": [
              "   genre_TV Movie  genre_History  genre_Documentary  genre_Western  genre_War  \\\n",
              "0             0.0            0.0                0.0            0.0        0.0   \n",
              "1             0.0            0.0                0.0            0.0        0.0   \n",
              "\n",
              "   genre_Fantasy  genre_Animation  genre_Foreign  genre_Mystery  \\\n",
              "0            0.0              0.0            0.0            0.0   \n",
              "1            0.0              0.0            0.0            0.0   \n",
              "\n",
              "   genre_Science Fiction  genre_Crime  genre_Adventure  genre_Music  \\\n",
              "0                    0.0          0.0              0.0          0.0   \n",
              "1                    0.0          0.0              0.0          0.0   \n",
              "\n",
              "   genre_Horror  genre_Action  genre_Thriller  genre_Romance  genre_Family  \\\n",
              "0           0.0           0.0             0.0            0.0           0.0   \n",
              "1           0.0           0.0             0.0            1.0           1.0   \n",
              "\n",
              "   genre_Drama  genre_Comedy    budget  budget_level  casting_size  \\\n",
              "0          0.0           1.0  14000000             2            24   \n",
              "1          1.0           0.0  40000000             3            20   \n",
              "\n",
              "   cast_score   revenue  europe  india  north_america  etc  \n",
              "0          12  12314651       0      0              1    0  \n",
              "1          60  95149435       0      0              1    0  "
            ]
          },
          "metadata": {
            "tags": []
          },
          "execution_count": 146
        }
      ]
    },
    {
      "cell_type": "code",
      "metadata": {
        "id": "1Q-_ZS7PTBPE",
        "colab_type": "code",
        "colab": {
          "base_uri": "https://localhost:8080/",
          "height": 36
        },
        "outputId": "e929048a-d2c6-4c7d-e9b8-019da18f2a71"
      },
      "source": [
        "print(df_test.columns.shape,df_train.columns.shape) #testset에는 revenue값이 없다. (예측하고자 하는 값이므로 )"
      ],
      "execution_count": 145,
      "outputs": [
        {
          "output_type": "stream",
          "text": [
            "(28,) (29,)\n"
          ],
          "name": "stdout"
        }
      ]
    },
    {
      "cell_type": "markdown",
      "metadata": {
        "id": "9_t5-3gqRhrm",
        "colab_type": "text"
      },
      "source": [
        "## 3. Modeling\n",
        "- lightgbm\n",
        "- random forest regressor\n",
        "- PCA로 잠재변수 생성하거나 feature importance에서 몇가지 feature만 추출해서 돌려보는 것도 좋을 것이라 생각함. "
      ]
    },
    {
      "cell_type": "code",
      "metadata": {
        "id": "8Av5XrocYhP8",
        "colab_type": "code",
        "colab": {}
      },
      "source": [
        "import matplotlib.pyplot as plt\n",
        "%matplotlib inline\n",
        "plt.style.use('ggplot')\n",
        "import seaborn as sns\n",
        "%matplotlib notebook\n",
        "\n",
        "from sklearn.model_selection import train_test_split, KFold\n",
        "import xgboost as xgb\n",
        "import lightgbm as lgb\n",
        "from sklearn.model_selection import RandomizedSearchCV, GridSearchCV\n",
        "from sklearn import model_selection\n",
        "\n",
        "from sklearn.metrics import accuracy_score\n",
        "from sklearn.metrics import mean_squared_error\n",
        "import warnings  \n",
        "warnings.filterwarnings('ignore')"
      ],
      "execution_count": 0,
      "outputs": []
    },
    {
      "cell_type": "code",
      "metadata": {
        "id": "gu42ir5cYPBq",
        "colab_type": "code",
        "colab": {}
      },
      "source": [
        "X = df_train.drop(['revenue'],axis=1)\n",
        "y = np.log1p(df_train['revenue'])\n",
        "\n",
        "X_train, X_valid, y_train, y_valid = train_test_split(X,y,test_size=0.2)"
      ],
      "execution_count": 0,
      "outputs": []
    },
    {
      "cell_type": "code",
      "metadata": {
        "id": "0g6Lw5GfYgV5",
        "colab_type": "code",
        "colab": {}
      },
      "source": [
        "# hyperparameter\n",
        "params = {'num_leaves': 30,\n",
        "         'min_data_in_leaf': 20,\n",
        "         'objective': 'regression',\n",
        "         'max_depth': 5,\n",
        "         'learning_rate': 0.01,\n",
        "         \"boosting\": \"gbdt\",\n",
        "         \"feature_fraction\": 0.9,\n",
        "         \"bagging_freq\": 1,\n",
        "         \"bagging_fraction\": 0.9,\n",
        "         \"bagging_seed\": 11,\n",
        "         \"metric\": 'rmse',\n",
        "         \"lambda_l1\": 0.2,\n",
        "         \"verbosity\": -1}"
      ],
      "execution_count": 0,
      "outputs": []
    },
    {
      "cell_type": "code",
      "metadata": {
        "id": "RsPN7HunYzkT",
        "colab_type": "code",
        "colab": {
          "base_uri": "https://localhost:8080/",
          "height": 260
        },
        "outputId": "fcae9306-f26a-4b40-b7f9-bf91a876f113"
      },
      "source": [
        "# 학습\n",
        "lgb_model = lgb.LGBMRegressor(**params, n_estimators = 10000, nthread = 4, n_jobs = -1)\n",
        "lgb_model.fit(X_train, y_train, \n",
        "        eval_set=[(X_train, y_train), (X_valid, y_valid)], eval_metric='rmse',\n",
        "        verbose=1000, early_stopping_rounds=200)"
      ],
      "execution_count": 150,
      "outputs": [
        {
          "output_type": "stream",
          "text": [
            "Training until validation scores don't improve for 200 rounds.\n",
            "Early stopping, best iteration is:\n",
            "[735]\ttraining's rmse: 2.06295\tvalid_1's rmse: 2.40632\n"
          ],
          "name": "stdout"
        },
        {
          "output_type": "execute_result",
          "data": {
            "text/plain": [
              "LGBMRegressor(bagging_fraction=0.9, bagging_freq=1, bagging_seed=11,\n",
              "              boosting='gbdt', boosting_type='gbdt', class_weight=None,\n",
              "              colsample_bytree=1.0, feature_fraction=0.9,\n",
              "              importance_type='split', lambda_l1=0.2, learning_rate=0.01,\n",
              "              max_depth=5, metric='rmse', min_child_samples=20,\n",
              "              min_child_weight=0.001, min_data_in_leaf=20, min_split_gain=0.0,\n",
              "              n_estimators=10000, n_jobs=-1, nthread=4, num_leaves=30,\n",
              "              objective='regression', random_state=None, reg_alpha=0.0,\n",
              "              reg_lambda=0.0, silent=True, subsample=1.0,\n",
              "              subsample_for_bin=200000, subsample_freq=0, verbosity=-1)"
            ]
          },
          "metadata": {
            "tags": []
          },
          "execution_count": 150
        }
      ]
    },
    {
      "cell_type": "code",
      "metadata": {
        "id": "_xyBRMWGY-Hx",
        "colab_type": "code",
        "colab": {
          "base_uri": "https://localhost:8080/",
          "height": 92
        },
        "outputId": "4a859bab-e15d-4fc9-fdbc-b2da36b1de0c"
      },
      "source": [
        "# random search\n",
        "params = {'max_depth':[4,5,6], 'learning_rate':[0.01,0.03, 0.001, 0.003]}\n",
        "random_search = RandomizedSearchCV(lgb_model,params, n_iter=200, refit=True, verbose=True, cv=3)\n",
        "random_search.fit(X,y)\n",
        "print('Best score reached: {} with params: {} '.format(random_search.best_score_, random_search.best_params_))"
      ],
      "execution_count": 156,
      "outputs": [
        {
          "output_type": "stream",
          "text": [
            "Fitting 3 folds for each of 12 candidates, totalling 36 fits\n"
          ],
          "name": "stdout"
        },
        {
          "output_type": "stream",
          "text": [
            "[Parallel(n_jobs=1)]: Using backend SequentialBackend with 1 concurrent workers.\n",
            "[Parallel(n_jobs=1)]: Done  36 out of  36 | elapsed:  2.9min finished\n"
          ],
          "name": "stderr"
        },
        {
          "output_type": "stream",
          "text": [
            "Best score reached: 0.4068904721089975 with params: {'max_depth': 4, 'learning_rate': 0.001} \n"
          ],
          "name": "stdout"
        }
      ]
    },
    {
      "cell_type": "code",
      "metadata": {
        "id": "l-qVZZVIqbEE",
        "colab_type": "code",
        "colab": {
          "base_uri": "https://localhost:8080/",
          "height": 391
        },
        "outputId": "447a61df-dcc4-42ef-b55e-3377d0a98af2"
      },
      "source": [
        "# hyperparameter\n",
        "params = {'num_leaves': 30,\n",
        "         'min_data_in_leaf': 20,\n",
        "         'objective': 'regression',\n",
        "         'max_depth': 4,\n",
        "         'learning_rate': 0.001,\n",
        "         \"boosting\": \"gbdt\",\n",
        "         \"feature_fraction\": 0.9,\n",
        "         \"bagging_freq\": 1,\n",
        "         \"bagging_fraction\": 0.9,\n",
        "         \"bagging_seed\": 11,\n",
        "         \"metric\": 'rmse',\n",
        "         \"lambda_l1\": 0.2,\n",
        "         \"verbosity\": -1}\n",
        "lgb_model = lgb.LGBMRegressor(**params, n_estimators = 10000, nthread = 4, n_jobs = -1)\n",
        "lgb_model.fit(X_train, y_train, \n",
        "        eval_set=[(X_train, y_train), (X_valid, y_valid)], eval_metric='rmse',\n",
        "        verbose=1000, early_stopping_rounds=200)"
      ],
      "execution_count": 161,
      "outputs": [
        {
          "output_type": "stream",
          "text": [
            "Training until validation scores don't improve for 200 rounds.\n",
            "[1000]\ttraining's rmse: 2.36269\tvalid_1's rmse: 2.54027\n",
            "[2000]\ttraining's rmse: 2.22936\tvalid_1's rmse: 2.43506\n",
            "[3000]\ttraining's rmse: 2.18616\tvalid_1's rmse: 2.41104\n",
            "[4000]\ttraining's rmse: 2.16227\tvalid_1's rmse: 2.40363\n",
            "[5000]\ttraining's rmse: 2.14425\tvalid_1's rmse: 2.40032\n",
            "[6000]\ttraining's rmse: 2.12871\tvalid_1's rmse: 2.39727\n",
            "[7000]\ttraining's rmse: 2.1152\tvalid_1's rmse: 2.39518\n",
            "Early stopping, best iteration is:\n",
            "[7246]\ttraining's rmse: 2.11207\tvalid_1's rmse: 2.39491\n"
          ],
          "name": "stdout"
        },
        {
          "output_type": "execute_result",
          "data": {
            "text/plain": [
              "LGBMRegressor(bagging_fraction=0.9, bagging_freq=1, bagging_seed=11,\n",
              "              boosting='gbdt', boosting_type='gbdt', class_weight=None,\n",
              "              colsample_bytree=1.0, feature_fraction=0.9,\n",
              "              importance_type='split', lambda_l1=0.2, learning_rate=0.001,\n",
              "              max_depth=4, metric='rmse', min_child_samples=20,\n",
              "              min_child_weight=0.001, min_data_in_leaf=20, min_split_gain=0.0,\n",
              "              n_estimators=10000, n_jobs=-1, nthread=4, num_leaves=30,\n",
              "              objective='regression', random_state=None, reg_alpha=0.0,\n",
              "              reg_lambda=0.0, silent=True, subsample=1.0,\n",
              "              subsample_for_bin=200000, subsample_freq=0, verbosity=-1)"
            ]
          },
          "metadata": {
            "tags": []
          },
          "execution_count": 161
        }
      ]
    },
    {
      "cell_type": "code",
      "metadata": {
        "id": "SGFhTYUBoa_O",
        "colab_type": "code",
        "colab": {}
      },
      "source": [
        "prediction = lgb_model.predict(df_test) #예측"
      ],
      "execution_count": 0,
      "outputs": []
    },
    {
      "cell_type": "code",
      "metadata": {
        "id": "328sg5J9qrV9",
        "colab_type": "code",
        "colab": {
          "base_uri": "https://localhost:8080/",
          "height": 481
        },
        "outputId": "14657161-3b5f-4428-eaad-a3a917b82b77"
      },
      "source": [
        "# 변수 중요도 확인 \n",
        "from lightgbm import plot_importance\n",
        "import matplotlib.pyplot as plt\n",
        "%matplotlib inline\n",
        "\n",
        "fig,ax = plt.subplots(figsize=(5,7))\n",
        "plot_importance(lgb_model, ax=ax)"
      ],
      "execution_count": 165,
      "outputs": [
        {
          "output_type": "execute_result",
          "data": {
            "text/plain": [
              "<matplotlib.axes._subplots.AxesSubplot at 0x7f3d3d201c50>"
            ]
          },
          "metadata": {
            "tags": []
          },
          "execution_count": 165
        },
        {
          "output_type": "display_data",
          "data": {
            "image/png": "[encoded data removed]",
            "text/plain": [
              "<Figure size 360x504 with 1 Axes>"
            ]
          },
          "metadata": {
            "tags": [],
            "needs_background": "light"
          }
        }
      ]
    },
    {
      "cell_type": "markdown",
      "metadata": {
        "id": "ofyKmHfLs1MC",
        "colab_type": "text"
      },
      "source": [
        "RandomRorest Regressor"
      ]
    },
    {
      "cell_type": "code",
      "metadata": {
        "id": "D9VYvrvZrocd",
        "colab_type": "code",
        "colab": {
          "base_uri": "https://localhost:8080/",
          "height": 36
        },
        "outputId": "5db798a5-c219-4d91-ed29-93ad1d80bd27"
      },
      "source": [
        "#scale\n",
        "from sklearn.preprocessing import MinMaxScaler\n",
        "\n",
        "scaler = MinMaxScaler()\n",
        "scaler.fit(X)"
      ],
      "execution_count": 167,
      "outputs": [
        {
          "output_type": "execute_result",
          "data": {
            "text/plain": [
              "MinMaxScaler(copy=True, feature_range=(0, 1))"
            ]
          },
          "metadata": {
            "tags": []
          },
          "execution_count": 167
        }
      ]
    },
    {
      "cell_type": "code",
      "metadata": {
        "id": "mPDoLOqgtB-S",
        "colab_type": "code",
        "colab": {}
      },
      "source": [
        "X_scaled = scaler.transform(X)"
      ],
      "execution_count": 0,
      "outputs": []
    },
    {
      "cell_type": "code",
      "metadata": {
        "id": "Dwz8T8XdtOBa",
        "colab_type": "code",
        "colab": {}
      },
      "source": [
        "from sklearn.ensemble import RandomForestRegressor\n",
        "from sklearn.model_selection import RandomizedSearchCV, GridSearchCV\n",
        "\n",
        "rf = RandomForestRegressor(random_state=42)\n",
        "\n",
        "param_rf = {\n",
        "    'n_estimators': list(range(100, 501, 25)),\n",
        "    'max_depth': list(range(5, 101, 5)),\n",
        "    'min_samples_split': list(range(5, 101, 5)),\n",
        "    'min_samples_leaf': list(range(5, 101, 5)),\n",
        "    'max_features': ['auto', 'sqrt', 'log2'],\n",
        "    'max_leaf_nodes': list(range(5, 101, 5)),\n",
        "    'bootstrap': [True]\n",
        "}\n",
        "random1 = RandomizedSearchCV(estimator=rf,\n",
        "                            param_distributions=param_rf,\n",
        "                            n_iter=1000,\n",
        "                            n_jobs=-1,\n",
        "                            cv=5,\n",
        "                            random_state=42,\n",
        "                            verbose=2)"
      ],
      "execution_count": 0,
      "outputs": []
    },
    {
      "cell_type": "code",
      "metadata": {
        "id": "0t_vEXvYtajt",
        "colab_type": "code",
        "colab": {
          "base_uri": "https://localhost:8080/",
          "height": 895
        },
        "outputId": "a3d4792b-c37a-43b1-c790-513395bbc3e7"
      },
      "source": [
        "# 학습\n",
        "random1.fit(X_scaled, y)"
      ],
      "execution_count": 170,
      "outputs": [
        {
          "output_type": "stream",
          "text": [
            "Fitting 5 folds for each of 1000 candidates, totalling 5000 fits\n"
          ],
          "name": "stdout"
        },
        {
          "output_type": "stream",
          "text": [
            "[Parallel(n_jobs=-1)]: Using backend LokyBackend with 2 concurrent workers.\n",
            "[Parallel(n_jobs=-1)]: Done  37 tasks      | elapsed:   16.6s\n",
            "[Parallel(n_jobs=-1)]: Done 158 tasks      | elapsed:  1.4min\n",
            "[Parallel(n_jobs=-1)]: Done 361 tasks      | elapsed:  3.1min\n",
            "[Parallel(n_jobs=-1)]: Done 644 tasks      | elapsed:  5.6min\n",
            "[Parallel(n_jobs=-1)]: Done 1009 tasks      | elapsed:  8.4min\n",
            "[Parallel(n_jobs=-1)]: Done 1454 tasks      | elapsed: 12.4min\n",
            "[Parallel(n_jobs=-1)]: Done 1981 tasks      | elapsed: 16.5min\n",
            "[Parallel(n_jobs=-1)]: Done 2588 tasks      | elapsed: 21.7min\n",
            "[Parallel(n_jobs=-1)]: Done 3277 tasks      | elapsed: 27.3min\n",
            "[Parallel(n_jobs=-1)]: Done 4046 tasks      | elapsed: 33.4min\n",
            "[Parallel(n_jobs=-1)]: Done 4897 tasks      | elapsed: 40.8min\n",
            "[Parallel(n_jobs=-1)]: Done 5000 out of 5000 | elapsed: 41.6min finished\n"
          ],
          "name": "stderr"
        },
        {
          "output_type": "execute_result",
          "data": {
            "text/plain": [
              "RandomizedSearchCV(cv=5, error_score=nan,\n",
              "                   estimator=RandomForestRegressor(bootstrap=True,\n",
              "                                                   ccp_alpha=0.0,\n",
              "                                                   criterion='mse',\n",
              "                                                   max_depth=None,\n",
              "                                                   max_features='auto',\n",
              "                                                   max_leaf_nodes=None,\n",
              "                                                   max_samples=None,\n",
              "                                                   min_impurity_decrease=0.0,\n",
              "                                                   min_impurity_split=None,\n",
              "                                                   min_samples_leaf=1,\n",
              "                                                   min_samples_split=2,\n",
              "                                                   min_weight_fraction_leaf=0.0,\n",
              "                                                   n_estimators=100,\n",
              "                                                   n_jobs=None, oob_score=Fals...\n",
              "                                                           100],\n",
              "                                        'min_samples_leaf': [5, 10, 15, 20, 25,\n",
              "                                                             30, 35, 40, 45, 50,\n",
              "                                                             55, 60, 65, 70, 75,\n",
              "                                                             80, 85, 90, 95,\n",
              "                                                             100],\n",
              "                                        'min_samples_split': [5, 10, 15, 20, 25,\n",
              "                                                              30, 35, 40, 45,\n",
              "                                                              50, 55, 60, 65,\n",
              "                                                              70, 75, 80, 85,\n",
              "                                                              90, 95, 100],\n",
              "                                        'n_estimators': [100, 125, 150, 175,\n",
              "                                                         200, 225, 250, 275,\n",
              "                                                         300, 325, 350, 375,\n",
              "                                                         400, 425, 450, 475,\n",
              "                                                         500]},\n",
              "                   pre_dispatch='2*n_jobs', random_state=42, refit=True,\n",
              "                   return_train_score=False, scoring=None, verbose=2)"
            ]
          },
          "metadata": {
            "tags": []
          },
          "execution_count": 170
        }
      ]
    },
    {
      "cell_type": "code",
      "metadata": {
        "id": "6acguuKqtk9i",
        "colab_type": "code",
        "colab": {}
      },
      "source": [
        "#import joblib\n",
        "#joblib.dump(random1, 'randomsearchcv_rf1.pkl')"
      ],
      "execution_count": 0,
      "outputs": []
    },
    {
      "cell_type": "code",
      "metadata": {
        "id": "bA29XC_8trpg",
        "colab_type": "code",
        "colab": {
          "base_uri": "https://localhost:8080/",
          "height": 148
        },
        "outputId": "746640ab-4ef8-4a49-e4dc-80af45d72324"
      },
      "source": [
        "random1.best_estimator_ #확인 "
      ],
      "execution_count": 172,
      "outputs": [
        {
          "output_type": "execute_result",
          "data": {
            "text/plain": [
              "RandomForestRegressor(bootstrap=True, ccp_alpha=0.0, criterion='mse',\n",
              "                      max_depth=5, max_features='auto', max_leaf_nodes=55,\n",
              "                      max_samples=None, min_impurity_decrease=0.0,\n",
              "                      min_impurity_split=None, min_samples_leaf=5,\n",
              "                      min_samples_split=45, min_weight_fraction_leaf=0.0,\n",
              "                      n_estimators=400, n_jobs=None, oob_score=False,\n",
              "                      random_state=42, verbose=0, warm_start=False)"
            ]
          },
          "metadata": {
            "tags": []
          },
          "execution_count": 172
        }
      ]
    },
    {
      "cell_type": "code",
      "metadata": {
        "id": "M2wtW-OPyXdx",
        "colab_type": "code",
        "colab": {}
      },
      "source": [
        "#GridSearch\n",
        "rf1 = RandomForestRegressor(random_state=42)\n",
        "\n",
        "param_grid = {\n",
        "    'n_estimators': list(range(150, 201, 10)),\n",
        "    'max_depth': [100],\n",
        "    'min_samples_split': list(range(15, 26, 2)),\n",
        "    'min_samples_leaf': list(range(5, 16, 2)),\n",
        "    'max_features': ['sqrt'],\n",
        "    'max_leaf_nodes': list(range(80, 91, 2)),\n",
        "    'bootstrap': [True]\n",
        "}\n",
        "\n",
        "grid = GridSearchCV(estimator=rf1,\n",
        "                    param_grid=param_grid,\n",
        "                    n_jobs=-1,\n",
        "                    cv=5,\n",
        "                    verbose=2)"
      ],
      "execution_count": 0,
      "outputs": []
    },
    {
      "cell_type": "code",
      "metadata": {
        "id": "mpTJDuwmya4K",
        "colab_type": "code",
        "colab": {
          "base_uri": "https://localhost:8080/",
          "height": 727
        },
        "outputId": "d5470df0-170a-4ede-bbcd-4e2e40423b88"
      },
      "source": [
        "grid.fit(X, y)"
      ],
      "execution_count": 174,
      "outputs": [
        {
          "output_type": "stream",
          "text": [
            "Fitting 5 folds for each of 1296 candidates, totalling 6480 fits\n"
          ],
          "name": "stdout"
        },
        {
          "output_type": "stream",
          "text": [
            "[Parallel(n_jobs=-1)]: Using backend LokyBackend with 2 concurrent workers.\n",
            "[Parallel(n_jobs=-1)]: Done  37 tasks      | elapsed:    9.5s\n",
            "[Parallel(n_jobs=-1)]: Done 158 tasks      | elapsed:   40.5s\n",
            "[Parallel(n_jobs=-1)]: Done 361 tasks      | elapsed:  1.5min\n",
            "[Parallel(n_jobs=-1)]: Done 644 tasks      | elapsed:  2.7min\n",
            "[Parallel(n_jobs=-1)]: Done 1009 tasks      | elapsed:  4.2min\n",
            "[Parallel(n_jobs=-1)]: Done 1454 tasks      | elapsed:  6.2min\n",
            "[Parallel(n_jobs=-1)]: Done 1981 tasks      | elapsed:  8.4min\n",
            "[Parallel(n_jobs=-1)]: Done 2588 tasks      | elapsed: 10.9min\n",
            "[Parallel(n_jobs=-1)]: Done 3277 tasks      | elapsed: 13.8min\n",
            "[Parallel(n_jobs=-1)]: Done 4046 tasks      | elapsed: 17.1min\n",
            "[Parallel(n_jobs=-1)]: Done 4897 tasks      | elapsed: 20.7min\n",
            "[Parallel(n_jobs=-1)]: Done 5828 tasks      | elapsed: 24.6min\n",
            "[Parallel(n_jobs=-1)]: Done 6480 out of 6480 | elapsed: 27.3min finished\n"
          ],
          "name": "stderr"
        },
        {
          "output_type": "execute_result",
          "data": {
            "text/plain": [
              "GridSearchCV(cv=5, error_score=nan,\n",
              "             estimator=RandomForestRegressor(bootstrap=True, ccp_alpha=0.0,\n",
              "                                             criterion='mse', max_depth=None,\n",
              "                                             max_features='auto',\n",
              "                                             max_leaf_nodes=None,\n",
              "                                             max_samples=None,\n",
              "                                             min_impurity_decrease=0.0,\n",
              "                                             min_impurity_split=None,\n",
              "                                             min_samples_leaf=1,\n",
              "                                             min_samples_split=2,\n",
              "                                             min_weight_fraction_leaf=0.0,\n",
              "                                             n_estimators=100, n_jobs=None,\n",
              "                                             oob_score=False, rand...\n",
              "                                             verbose=0, warm_start=False),\n",
              "             iid='deprecated', n_jobs=-1,\n",
              "             param_grid={'bootstrap': [True], 'max_depth': [100],\n",
              "                         'max_features': ['sqrt'],\n",
              "                         'max_leaf_nodes': [80, 82, 84, 86, 88, 90],\n",
              "                         'min_samples_leaf': [5, 7, 9, 11, 13, 15],\n",
              "                         'min_samples_split': [15, 17, 19, 21, 23, 25],\n",
              "                         'n_estimators': [150, 160, 170, 180, 190, 200]},\n",
              "             pre_dispatch='2*n_jobs', refit=True, return_train_score=False,\n",
              "             scoring=None, verbose=2)"
            ]
          },
          "metadata": {
            "tags": []
          },
          "execution_count": 174
        }
      ]
    },
    {
      "cell_type": "code",
      "metadata": {
        "id": "Wh5Te6IcygAR",
        "colab_type": "code",
        "colab": {
          "base_uri": "https://localhost:8080/",
          "height": 148
        },
        "outputId": "a90842e5-1025-4f48-e68c-68995944ac3e"
      },
      "source": [
        "grid.best_estimator_"
      ],
      "execution_count": 175,
      "outputs": [
        {
          "output_type": "execute_result",
          "data": {
            "text/plain": [
              "RandomForestRegressor(bootstrap=True, ccp_alpha=0.0, criterion='mse',\n",
              "                      max_depth=100, max_features='sqrt', max_leaf_nodes=90,\n",
              "                      max_samples=None, min_impurity_decrease=0.0,\n",
              "                      min_impurity_split=None, min_samples_leaf=5,\n",
              "                      min_samples_split=21, min_weight_fraction_leaf=0.0,\n",
              "                      n_estimators=160, n_jobs=None, oob_score=False,\n",
              "                      random_state=42, verbose=0, warm_start=False)"
            ]
          },
          "metadata": {
            "tags": []
          },
          "execution_count": 175
        }
      ]
    },
    {
      "cell_type": "code",
      "metadata": {
        "id": "MeUL8toKyoPI",
        "colab_type": "code",
        "colab": {}
      },
      "source": [
        "from sklearn.base import clone\n",
        "new_rf = clone(grid.best_estimator_)"
      ],
      "execution_count": 0,
      "outputs": []
    },
    {
      "cell_type": "code",
      "metadata": {
        "id": "F8i2olBXyyM7",
        "colab_type": "code",
        "colab": {
          "base_uri": "https://localhost:8080/",
          "height": 148
        },
        "outputId": "67846c71-0077-48be-846b-2e98805cab1a"
      },
      "source": [
        "new_rf.fit(X, y) #학습"
      ],
      "execution_count": 177,
      "outputs": [
        {
          "output_type": "execute_result",
          "data": {
            "text/plain": [
              "RandomForestRegressor(bootstrap=True, ccp_alpha=0.0, criterion='mse',\n",
              "                      max_depth=100, max_features='sqrt', max_leaf_nodes=90,\n",
              "                      max_samples=None, min_impurity_decrease=0.0,\n",
              "                      min_impurity_split=None, min_samples_leaf=5,\n",
              "                      min_samples_split=21, min_weight_fraction_leaf=0.0,\n",
              "                      n_estimators=160, n_jobs=None, oob_score=False,\n",
              "                      random_state=42, verbose=0, warm_start=False)"
            ]
          },
          "metadata": {
            "tags": []
          },
          "execution_count": 177
        }
      ]
    },
    {
      "cell_type": "code",
      "metadata": {
        "id": "QNNgq0oYzU__",
        "colab_type": "code",
        "colab": {}
      },
      "source": [
        "#예측\n",
        "x_test_scaled = scaler.transform(df_test)\n",
        "prediction2 = new_rf.predict(x_test_scaled)\n",
        "final_pred = np.round(prediction2, 2)"
      ],
      "execution_count": 0,
      "outputs": []
    },
    {
      "cell_type": "code",
      "metadata": {
        "id": "Hoz1xLRt-KQp",
        "colab_type": "code",
        "colab": {}
      },
      "source": [
        ""
      ],
      "execution_count": 0,
      "outputs": []
    }
  ]
}